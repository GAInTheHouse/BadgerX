{
 "cells": [
  {
   "cell_type": "markdown",
   "metadata": {},
   "source": [
    "## MODIS Vegetation Index Parser"
   ]
  },
  {
   "cell_type": "code",
   "execution_count": 3,
   "metadata": {},
   "outputs": [],
   "source": [
    "import tables\n",
    "import h5py\n",
    "import numpy as np\n",
    "import sys\n",
    "from pyhdf.SD import SD, SDC\n",
    "import pandas as pd\n",
    "import time\n",
    "import calendar\n",
    "import matplotlib.pyplot as plt\n",
    "\n",
    "import datetime\n",
    "import os"
   ]
  },
  {
   "cell_type": "markdown",
   "metadata": {},
   "source": [
    "## Initial Exploration"
   ]
  },
  {
   "cell_type": "code",
   "execution_count": 4,
   "metadata": {},
   "outputs": [],
   "source": [
    "test = SD(\"modis_vegetation_index/2010/MOD13C1.A2010097.006.2016188212432.hdf\")"
   ]
  },
  {
   "cell_type": "code",
   "execution_count": 5,
   "metadata": {},
   "outputs": [
    {
     "data": {
      "text/plain": [
       "array([[-3000, -3000, -3000, ...,  1092,   919,  1034],\n",
       "       [-3000, -3000, -3000, ...,  1037,   933,  1168],\n",
       "       [-3000, -3000, -3000, ...,  1046,  1118,  1394],\n",
       "       ...,\n",
       "       [-3000, -3000, -3000, ...,  2817,  2146,  1865],\n",
       "       [-3000, -3000, -3000, ...,  2896,  1674,  2212],\n",
       "       [-3000, -3000, -3000, ...,  2470,  2156,  2563]], dtype=int16)"
      ]
     },
     "execution_count": 5,
     "metadata": {},
     "output_type": "execute_result"
    }
   ],
   "source": [
    "test.select(\"CMG 0.05 Deg 16 days EVI\")[960:1080, 1110:1230]"
   ]
  },
  {
   "cell_type": "code",
   "execution_count": 6,
   "metadata": {},
   "outputs": [
    {
     "data": {
      "text/plain": [
       "(120, 1920)"
      ]
     },
     "execution_count": 6,
     "metadata": {},
     "output_type": "execute_result"
    }
   ],
   "source": [
    "np.repeat(test.select(\"CMG 0.05 Deg 16 days EVI\")[960:1080, 1110:1230], 16, axis=1).shape"
   ]
  },
  {
   "cell_type": "markdown",
   "metadata": {},
   "source": [
    "## File Parsing"
   ]
  },
  {
   "cell_type": "code",
   "execution_count": 51,
   "metadata": {},
   "outputs": [],
   "source": [
    "final_arr = []"
   ]
  },
  {
   "cell_type": "code",
   "execution_count": 84,
   "metadata": {
    "collapsed": true,
    "jupyter": {
     "outputs_hidden": true
    }
   },
   "outputs": [
    {
     "name": "stdout",
     "output_type": "stream",
     "text": [
      "MOD13C1.A2019001.006.2019024203354.hdf\n",
      "1\n",
      "MOD13C1.A2019017.006.2019037213226.hdf\n",
      "2\n",
      "MOD13C1.A2019033.006.2019072172524.hdf\n",
      "3\n",
      "MOD13C1.A2019049.006.2019073193743.hdf\n",
      "4\n",
      "MOD13C1.A2019065.006.2019084034110.hdf\n",
      "5\n",
      "MOD13C1.A2019081.006.2019098163258.hdf\n",
      "6\n",
      "MOD13C1.A2019097.006.2019114051812.hdf\n",
      "7\n",
      "MOD13C1.A2019113.006.2019130050040.hdf\n",
      "8\n",
      "MOD13C1.A2019129.006.2019150141624.hdf\n",
      "9\n",
      "MOD13C1.A2019145.006.2019162054702.hdf\n",
      "10\n",
      "MOD13C1.A2019161.006.2019178051239.hdf\n",
      "11\n",
      "MOD13C1.A2019177.006.2019194051649.hdf\n",
      "12\n",
      "MOD13C1.A2019193.006.2019210054933.hdf\n",
      "13\n",
      "MOD13C1.A2019209.006.2019226065523.hdf\n",
      "14\n",
      "MOD13C1.A2019225.006.2019248181129.hdf\n",
      "15\n",
      "MOD13C1.A2019241.006.2019262213957.hdf\n",
      "16\n",
      "MOD13C1.A2019257.006.2019275220306.hdf\n",
      "17\n",
      "MOD13C1.A2019273.006.2019290044629.hdf\n",
      "18\n",
      "MOD13C1.A2019289.006.2019306054311.hdf\n",
      "19\n",
      "MOD13C1.A2019305.006.2019324014429.hdf\n",
      "20\n",
      "MOD13C1.A2019321.006.2019338054104.hdf\n",
      "21\n",
      "MOD13C1.A2019337.006.2019354191230.hdf\n",
      "22\n",
      "MOD13C1.A2019353.006.2020005033948.hdf\n",
      "23\n",
      "checksums_501514880 unable to be opened.\n"
     ]
    }
   ],
   "source": [
    "year = 2019\n",
    "init = []\n",
    "files_list = os.listdir(f\"modis_vegetation_index/{year}\")\n",
    "counter = 0\n",
    "\n",
    "for file in files_list:\n",
    "    try:\n",
    "        file_parse = SD(f\"modis_vegetation_index/{year}/{file}\")\n",
    "    except:\n",
    "        print(f\"{file} unable to be opened.\")\n",
    "        continue\n",
    "    print(file)\n",
    "    temp = SD(f\"modis_vegetation_index/{year}/{file}\")\n",
    "    if counter == 22:\n",
    "        for i in range(13):\n",
    "            init.append(temp.select(\"CMG 0.05 Deg 16 days EVI\")[960:1080, 1110:1230])\n",
    "    else:\n",
    "        for i in range(16):\n",
    "            init.append(temp.select(\"CMG 0.05 Deg 16 days EVI\")[960:1080, 1110:1230])\n",
    "    counter+=1\n",
    "    print(counter)"
   ]
  },
  {
   "cell_type": "code",
   "execution_count": 85,
   "metadata": {},
   "outputs": [
    {
     "data": {
      "text/plain": [
       "365"
      ]
     },
     "execution_count": 85,
     "metadata": {},
     "output_type": "execute_result"
    }
   ],
   "source": [
    "len(init)"
   ]
  },
  {
   "cell_type": "code",
   "execution_count": 86,
   "metadata": {},
   "outputs": [],
   "source": [
    "final_arr.append(np.array(init).reshape((365, 120*120)))"
   ]
  },
  {
   "cell_type": "code",
   "execution_count": 96,
   "metadata": {},
   "outputs": [],
   "source": [
    "final_arr_stacked = np.vstack((final_arr))"
   ]
  },
  {
   "cell_type": "code",
   "execution_count": 111,
   "metadata": {},
   "outputs": [
    {
     "data": {
      "text/plain": [
       "10828677"
      ]
     },
     "execution_count": 111,
     "metadata": {},
     "output_type": "execute_result"
    }
   ],
   "source": [
    "sum(sum(final_arr_stacked  < 0))"
   ]
  },
  {
   "cell_type": "markdown",
   "metadata": {},
   "source": [
    "## File Export"
   ]
  },
  {
   "cell_type": "code",
   "execution_count": 97,
   "metadata": {},
   "outputs": [],
   "source": [
    "pd.DataFrame(final_arr_stacked).to_hdf(\"final_vegetation.h5\", key=\"vegetation\")"
   ]
  },
  {
   "cell_type": "code",
   "execution_count": 102,
   "metadata": {},
   "outputs": [
    {
     "data": {
      "text/plain": [
       "(14400,)"
      ]
     },
     "execution_count": 102,
     "metadata": {},
     "output_type": "execute_result"
    }
   ],
   "source": [
    "np.array(final_arr[0][0]).shape"
   ]
  },
  {
   "cell_type": "markdown",
   "metadata": {},
   "source": [
    "## Mapping Exploration"
   ]
  },
  {
   "cell_type": "code",
   "execution_count": 113,
   "metadata": {},
   "outputs": [
    {
     "data": {
      "image/png": "[encoded data removed]",
      "text/plain": [
       "<Figure size 360x360 with 2 Axes>"
      ]
     },
     "metadata": {
      "needs_background": "light"
     },
     "output_type": "display_data"
    }
   ],
   "source": [
    "fig, ax = plt.subplots(figsize = (5,5))\n",
    "test_map = ax.imshow(final_arr[8][215].reshape(120, 120), cmap=\"hot\", interpolation=\"none\")\n",
    "cbar = fig.colorbar(test_map, ax=ax)"
   ]
  }
 ],
 "metadata": {
  "kernelspec": {
   "display_name": "Python 3",
   "language": "python",
   "name": "python3"
  },
  "language_info": {
   "codemirror_mode": {
    "name": "ipython",
    "version": 3
   },
   "file_extension": ".py",
   "mimetype": "text/x-python",
   "name": "python",
   "nbconvert_exporter": "python",
   "pygments_lexer": "ipython3",
   "version": "3.8.1"
  }
 },
 "nbformat": 4,
 "nbformat_minor": 4
}
